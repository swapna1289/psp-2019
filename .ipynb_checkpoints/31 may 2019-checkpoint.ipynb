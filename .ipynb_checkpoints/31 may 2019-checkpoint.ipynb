{
 "cells": [
  {
   "cell_type": "markdown",
   "metadata": {},
   "source": [
    "#  PYTHON DAY 05\n",
    "### May 31 2019\n",
    "### Topics\n",
    "* Tuples\n",
    "* dictionaries\n",
    "* regular expressions\n",
    "* linear and binary search\n",
    "* date Arithmetic\n",
    "* Iterations and Generators\n",
    "* Functional Programming\n"
   ]
  },
  {
   "cell_type": "markdown",
   "metadata": {},
   "source": [
    "### Python Tuples\n",
    "* tuples are imutable --once a tuple is ddefined values cannot be changed ** ( )**\n",
    "* we cannot modify data\n",
    "* we can access them\n",
    "* all accessinf anf srting slicing operations will work"
   ]
  },
  {
   "cell_type": "code",
   "execution_count": 1,
   "metadata": {},
   "outputs": [],
   "source": [
    "t1= (1001,'name',72,90)"
   ]
  },
  {
   "cell_type": "code",
   "execution_count": 2,
   "metadata": {},
   "outputs": [
    {
     "data": {
      "text/plain": [
       "(1001, 'name', 72, 90)"
      ]
     },
     "execution_count": 2,
     "metadata": {},
     "output_type": "execute_result"
    }
   ],
   "source": [
    "t1"
   ]
  },
  {
   "cell_type": "code",
   "execution_count": 3,
   "metadata": {},
   "outputs": [
    {
     "ename": "AttributeError",
     "evalue": "'tuple' object has no attribute 'append'",
     "output_type": "error",
     "traceback": [
      "\u001b[1;31m---------------------------------------------------------------------------\u001b[0m",
      "\u001b[1;31mAttributeError\u001b[0m                            Traceback (most recent call last)",
      "\u001b[1;32m<ipython-input-3-591d3c266669>\u001b[0m in \u001b[0;36m<module>\u001b[1;34m\u001b[0m\n\u001b[1;32m----> 1\u001b[1;33m \u001b[0mt1\u001b[0m\u001b[1;33m.\u001b[0m\u001b[0mappend\u001b[0m\u001b[1;33m(\u001b[0m\u001b[1;36m89\u001b[0m\u001b[1;33m)\u001b[0m\u001b[1;33m\u001b[0m\u001b[1;33m\u001b[0m\u001b[0m\n\u001b[0m",
      "\u001b[1;31mAttributeError\u001b[0m: 'tuple' object has no attribute 'append'"
     ]
    }
   ],
   "source": [
    "t1.append(89)# we cannot change elements or modify them"
   ]
  },
  {
   "cell_type": "code",
   "execution_count": 4,
   "metadata": {},
   "outputs": [
    {
     "data": {
      "text/plain": [
       "1001"
      ]
     },
     "execution_count": 4,
     "metadata": {},
     "output_type": "execute_result"
    }
   ],
   "source": [
    "t1[0]"
   ]
  },
  {
   "cell_type": "code",
   "execution_count": 5,
   "metadata": {},
   "outputs": [
    {
     "data": {
      "text/plain": [
       "(72, 90)"
      ]
     },
     "execution_count": 5,
     "metadata": {},
     "output_type": "execute_result"
    }
   ],
   "source": [
    "t1[2:]"
   ]
  },
  {
   "cell_type": "code",
   "execution_count": 31,
   "metadata": {},
   "outputs": [
    {
     "name": "stdout",
     "output_type": "stream",
     "text": [
      "p\n",
      "y\n",
      "t\n",
      "h\n",
      "o\n",
      "n\n"
     ]
    }
   ],
   "source": [
    "s='python'\n",
    "for i in s:\n",
    "    print(i)"
   ]
  },
  {
   "cell_type": "code",
   "execution_count": 13,
   "metadata": {},
   "outputs": [
    {
     "name": "stdout",
     "output_type": "stream",
     "text": [
      "2 5 4 3\n"
     ]
    }
   ],
   "source": [
    "# now access all 2nd digits fron t2 tuple\n",
    "t2=(123,456,543,234455)\n",
    "print (str(t2[0])[1], str(t2[1])[1], str(t2[2])[1],str(t2[3])[1])"
   ]
  },
  {
   "cell_type": "code",
   "execution_count": 17,
   "metadata": {},
   "outputs": [
    {
     "data": {
      "text/plain": [
       "74.0"
      ]
     },
     "execution_count": 17,
     "metadata": {},
     "output_type": "execute_result"
    }
   ],
   "source": [
    "# define a function to calculate a Avarage of all elements in a tuple\n",
    "def averageLinearDS(t):\n",
    "    sum=0\n",
    "    for i in range(0,len(t)):\n",
    "        sum+= t[i]\n",
    "    return sum/len(t)\n",
    "averageLinearDS(t2)\n",
    "    \n",
    "li=[12,56,89,90,123]\n",
    "averageLinearDS(li)"
   ]
  },
  {
   "cell_type": "code",
   "execution_count": 30,
   "metadata": {},
   "outputs": [
    {
     "data": {
      "text/plain": [
       "58894.25"
      ]
     },
     "execution_count": 30,
     "metadata": {},
     "output_type": "execute_result"
    }
   ],
   "source": [
    "# short form of avg\n",
    "#python recognize list strings and tuple as iterable objects\n",
    "def averageLinearDS(t):\n",
    "    sum=0\n",
    "  #  for i in range(0,len(t)):\n",
    "   #     sum+= t[i]\n",
    "    for item in t:\n",
    "        sum+=item\n",
    "    \n",
    "    return sum/len(t)\n",
    "averageLinearDS(t2)"
   ]
  },
  {
   "cell_type": "markdown",
   "metadata": {},
   "source": [
    "### function to search in a linear Data Structure"
   ]
  },
  {
   "cell_type": "code",
   "execution_count": 24,
   "metadata": {},
   "outputs": [
    {
     "name": "stdout",
     "output_type": "stream",
     "text": [
      "found in  2\n"
     ]
    }
   ],
   "source": [
    "def searchDS(ds,key):\n",
    "    for i in range(0,len(ds)):\n",
    "        if(ds[i]==key):\n",
    "            return i\n",
    "    return -1    \n",
    "        \n",
    "li=[12,56,89,90,123]\n",
    "pos=searchDS(li,89)\n",
    "print(\"found in \", pos)\n",
    "\n"
   ]
  },
  {
   "cell_type": "markdown",
   "metadata": {},
   "source": [
    "### function to identify maximum elemint in a DS as iterable object"
   ]
  },
  {
   "cell_type": "code",
   "execution_count": 34,
   "metadata": {},
   "outputs": [
    {
     "data": {
      "text/plain": [
       "123"
      ]
     },
     "execution_count": 34,
     "metadata": {},
     "output_type": "execute_result"
    }
   ],
   "source": [
    "def maxElementsDS(ds):\n",
    "    m=0\n",
    "    for item in ds:\n",
    "        if item>m:\n",
    "            m=item\n",
    "    return m\n",
    "maxElementsDS(li)"
   ]
  },
  {
   "cell_type": "markdown",
   "metadata": {},
   "source": [
    "### python dictionaries\n",
    "#### string  list [], tuples() and dictionaries(non linear){} are all data structuries in python\n",
    "* to define {} to access all ds we use []\n",
    "* to acess dic we need key\n",
    "* All keys ina  dic are unique\n",
    "* we can access values in dic with keys and revers possible\n",
    "* dic are mutable,so they can be modified"
   ]
  },
  {
   "cell_type": "code",
   "execution_count": 45,
   "metadata": {},
   "outputs": [
    {
     "name": "stdout",
     "output_type": "stream",
     "text": [
      "{'name1': 1234, 'name2': 7890, 'name3': 5678}\n",
      "7890\n",
      "dict_keys(['name1', 'name2', 'name3'])\n",
      "dict_values([1234, 7890, 5678])\n",
      "{'name1': 1234, 'name2': 7890, 'name3': 5678, 'name4': 88775}\n",
      "{'name1': 1234, 'name2': 7890, 'name3': 5678}\n"
     ]
    }
   ],
   "source": [
    "d1={'name1':1234,'name2':7890,'name3':5678}\n",
    "print(d1)\n",
    "print(d1['name2'])\n",
    "print(d1.keys())\n",
    "print(d1.values())\n",
    "d1['name4']=88775 #adding to dict\n",
    "print(d1)\n",
    "d1.pop('name4') #to remove key and value\n",
    "print(d1)\n",
    "#del d1     # to delete entire dic"
   ]
  },
  {
   "cell_type": "code",
   "execution_count": 60,
   "metadata": {},
   "outputs": [],
   "source": [
    "# contacts application\n",
    "# display add, modify and delete contacts\n",
    "contacts ={}\n",
    "def addContact(d,name,phone):\n",
    "    d[name]=phone\n",
    "    return\n",
    "#addContact(contacts,'name1',67876454)\n",
    "def displayContacts(contacts):\n",
    "    for name,phone in contacts.items():# list of tuples of all items\n",
    "        print(name,\":\",phone)\n",
    "    return    \n",
    "def modifyContacts(contacts,name,newphone):\n",
    "    contacts[name]=newphone\n",
    "    return\n",
    "    \n"
   ]
  },
  {
   "cell_type": "code",
   "execution_count": 65,
   "metadata": {},
   "outputs": [],
   "source": [
    "addContact(contacts,'name1',89765)\n",
    "addContact(contacts,'name2',78654)"
   ]
  },
  {
   "cell_type": "code",
   "execution_count": 66,
   "metadata": {},
   "outputs": [
    {
     "name": "stdout",
     "output_type": "stream",
     "text": [
      "name1 : 89765\n",
      "name2 : 78654\n"
     ]
    }
   ],
   "source": [
    "displayContacts(contacts)"
   ]
  },
  {
   "cell_type": "code",
   "execution_count": 67,
   "metadata": {},
   "outputs": [
    {
     "data": {
      "text/plain": [
       "89765"
      ]
     },
     "execution_count": 67,
     "metadata": {},
     "output_type": "execute_result"
    }
   ],
   "source": [
    "contacts.get('name1')"
   ]
  },
  {
   "cell_type": "code",
   "execution_count": 68,
   "metadata": {},
   "outputs": [],
   "source": [
    "modifyContacts(contacts,'name1', 12345)"
   ]
  },
  {
   "cell_type": "code",
   "execution_count": 69,
   "metadata": {},
   "outputs": [
    {
     "name": "stdout",
     "output_type": "stream",
     "text": [
      "name1 : 12345\n",
      "name2 : 78654\n"
     ]
    }
   ],
   "source": [
    "displayContacts(contacts)"
   ]
  },
  {
   "cell_type": "markdown",
   "metadata": {},
   "source": [
    "### idomatic practices\n",
    "in pdf online"
   ]
  },
  {
   "cell_type": "code",
   "execution_count": 82,
   "metadata": {},
   "outputs": [
    {
     "name": "stdout",
     "output_type": "stream",
     "text": [
      "[4, 3, 2, 1]\n"
     ]
    }
   ],
   "source": [
    "li3=[1,2,3,4]\n",
    "li4=[6,7,3,9]\n",
    "li3=list(reversed(li3))\n",
    "#  we can also use  ite=reversed(li3)\n",
    "#for i in ite:\n",
    "print(li3)\n"
   ]
  },
  {
   "cell_type": "markdown",
   "metadata": {},
   "source": [
    "### enumarate \n",
    "to access index and value"
   ]
  },
  {
   "cell_type": "code",
   "execution_count": 76,
   "metadata": {},
   "outputs": [
    {
     "name": "stdout",
     "output_type": "stream",
     "text": [
      "0 : 4\n",
      "1 : 3\n",
      "2 : 2\n",
      "3 : 1\n"
     ]
    }
   ],
   "source": [
    "enumerate(li3)\n",
    "for i, value in enumerate(li3):\n",
    "    print(i, ':', value)"
   ]
  },
  {
   "cell_type": "code",
   "execution_count": 88,
   "metadata": {},
   "outputs": [
    {
     "name": "stdout",
     "output_type": "stream",
     "text": [
      "<zip object at 0x000002AC6FAF3E88>\n"
     ]
    }
   ],
   "source": [
    "zip(li3, li4)"
   ]
  },
  {
   "cell_type": "code",
   "execution_count": 85,
   "metadata": {},
   "outputs": [
    {
     "name": "stdout",
     "output_type": "stream",
     "text": [
      "4 6\n",
      "3 7\n",
      "2 3\n",
      "1 9\n"
     ]
    }
   ],
   "source": [
    "for i,j in zip(li3,li4):\n",
    "    print(i,j)\n",
    "    "
   ]
  },
  {
   "cell_type": "code",
   "execution_count": 86,
   "metadata": {},
   "outputs": [
    {
     "name": "stdout",
     "output_type": "stream",
     "text": [
      "4 9\n",
      "3 3\n",
      "2 7\n",
      "1 6\n"
     ]
    }
   ],
   "source": [
    "for i,j in zip(li3,reversed(li4)):\n",
    "    print(i,j)"
   ]
  },
  {
   "cell_type": "markdown",
   "metadata": {},
   "source": [
    "###  Python Regular Expressions \n",
    "* [0-9] all digits1, 2,3 ,4,5\n",
    "* [0,1,2,3,...9] all alphabest\n",
    "* [a-z] RE for all lower case alphabest\n",
    "* [A-Z] RE for all upper case alphabet\n",
    "* [01] or [10] expression matching \n",
    "* to test the regular expression (https://www.regexpal.com/)"
   ]
  },
  {
   "cell_type": "code",
   "execution_count": 7,
   "metadata": {},
   "outputs": [
    {
     "data": {
      "text/plain": [
       "[-9]"
      ]
     },
     "execution_count": 7,
     "metadata": {},
     "output_type": "execute_result"
    }
   ],
   "source": [
    "prog = re.compile(pattern)\n",
    "result = prog.match(string)"
   ]
  },
  {
   "cell_type": "code",
   "execution_count": 8,
   "metadata": {},
   "outputs": [
    {
     "data": {
      "text/plain": [
       "'def'"
      ]
     },
     "execution_count": 8,
     "metadata": {},
     "output_type": "execute_result"
    }
   ],
   "source": [
    " import re\n",
    " m = re.search('(?<=abc)def', 'abcdef')\n",
    " m.group(0)\n",
    "'def'"
   ]
  },
  {
   "cell_type": "code",
   "execution_count": 40,
   "metadata": {},
   "outputs": [
    {
     "data": {
      "text/plain": [
       "'swapna_12@gamil.com'"
      ]
     },
     "execution_count": 40,
     "metadata": {},
     "output_type": "execute_result"
    }
   ],
   "source": [
    "import re\n",
    ">>> m = re.search('[A-Za-z0-9_.]{1,9}[@][a-z0-9]{1,9}[.][a-z]{3}', 'swapna_12@gamil.com')\n",
    ">>> m.group(0)\n",
    " "
   ]
  },
  {
   "cell_type": "code",
   "execution_count": 34,
   "metadata": {},
   "outputs": [
    {
     "data": {
      "text/plain": [
       "'7337312678'"
      ]
     },
     "execution_count": 34,
     "metadata": {},
     "output_type": "execute_result"
    }
   ],
   "source": [
    "import re\n",
    ">>> m = re.search('^[6789]{1}[0-9]{9}$', '7337312678')\n",
    ">>> m.group(0)\n"
   ]
  },
  {
   "cell_type": "code",
   "execution_count": 41,
   "metadata": {},
   "outputs": [
    {
     "name": "stdout",
     "output_type": "stream",
     "text": [
      "match\n",
      "match\n"
     ]
    }
   ],
   "source": [
    " pattern = re.compile('^[a-zA-Z][a-z0-9_.]{5,14}[@][A-Za-z0-9]{3,12}[.][a-z]{2,3}$')\n",
    "if(pattern.match(\"dog@gmail.com\")):# Match at index 0\n",
    "        print(\"match\")\n",
    "\n",
    "if(pattern.match(\"dog_123@gamil.com\", 1)):\n",
    "        print(\"match\")\n",
    "else:\n",
    "        print(\"not match\")    \n",
    "    "
   ]
  },
  {
   "cell_type": "markdown",
   "metadata": {},
   "source": [
    "### defining a is match function"
   ]
  },
  {
   "cell_type": "code",
   "execution_count": 45,
   "metadata": {},
   "outputs": [
    {
     "name": "stdout",
     "output_type": "stream",
     "text": [
      "match\n"
     ]
    }
   ],
   "source": [
    "def ismatch(s):\n",
    "    pattern = re.compile('^[a]..[a]$')\n",
    "    if(pattern.match(s)):# Match at index 0\n",
    "        print(\"match\")\n",
    "    else:\n",
    "        print(\"notmatch\")\n",
    "ismatch(\"asda\")        "
   ]
  },
  {
   "cell_type": "markdown",
   "metadata": {},
   "source": [
    "### Defining phone number validator"
   ]
  },
  {
   "cell_type": "code",
   "execution_count": 48,
   "metadata": {},
   "outputs": [
    {
     "data": {
      "text/plain": [
       "True"
      ]
     },
     "execution_count": 48,
     "metadata": {},
     "output_type": "execute_result"
    }
   ],
   "source": [
    "def phoneNumberValidator(phone):\n",
    "    phone=str(phone)\n",
    "    pattern='^[6-9][0-9]{9}$'\n",
    "    if re.match(pattern,phone):\n",
    "        return True\n",
    "\n",
    "    return False\n",
    "phoneNumberValidator(6345678800)\n",
    "    "
   ]
  },
  {
   "cell_type": "code",
   "execution_count": 59,
   "metadata": {},
   "outputs": [],
   "source": [
    "s1='Regular expressions can contain both special and ordinary characters. Most ordinary character are , the simplest regular expressions ,  they simply match themselves , You can concatenate ordinary characters,'"
   ]
  },
  {
   "cell_type": "code",
   "execution_count": 60,
   "metadata": {},
   "outputs": [
    {
     "name": "stdout",
     "output_type": "stream",
     "text": [
      "['Regular expressions can contain both special and ordinary characters. Most ordinary character are ', 'the simplest regular expressions ', ' they simply match themselves ', 'You can concatenate ordinary characters,']\n"
     ]
    }
   ],
   "source": [
    "syllList= re.split('[,][\\  ]',s1)\n",
    "print(syllList)"
   ]
  },
  {
   "cell_type": "code",
   "execution_count": null,
   "metadata": {},
   "outputs": [],
   "source": []
  },
  {
   "cell_type": "code",
   "execution_count": null,
   "metadata": {},
   "outputs": [],
   "source": []
  },
  {
   "cell_type": "code",
   "execution_count": null,
   "metadata": {},
   "outputs": [],
   "source": []
  },
  {
   "cell_type": "markdown",
   "metadata": {},
   "source": [
    "### date and times lib \n",
    "### ARITHAMETIC\n",
    "#### refer:https://www.programiz.com/python-programming/datetime"
   ]
  },
  {
   "cell_type": "code",
   "execution_count": 62,
   "metadata": {},
   "outputs": [
    {
     "data": {
      "text/plain": [
       "datetime.datetime(2019, 5, 31, 17, 5, 39, 16899)"
      ]
     },
     "execution_count": 62,
     "metadata": {},
     "output_type": "execute_result"
    }
   ],
   "source": [
    "import datetime\n",
    "datetime.datetime.now()\n"
   ]
  },
  {
   "cell_type": "code",
   "execution_count": 63,
   "metadata": {},
   "outputs": [
    {
     "data": {
      "text/plain": [
       "datetime.datetime"
      ]
     },
     "execution_count": 63,
     "metadata": {},
     "output_type": "execute_result"
    }
   ],
   "source": [
    "type(datetime.datetime.now())"
   ]
  },
  {
   "cell_type": "code",
   "execution_count": 74,
   "metadata": {},
   "outputs": [
    {
     "name": "stdout",
     "output_type": "stream",
     "text": [
      "2019\n",
      "5\n",
      "17 12 22\n",
      "2019-05-31 17:12:22.050503\n",
      "2019-05-31\n"
     ]
    }
   ],
   "source": [
    "now=datetime.datetime.now()\n",
    "print(now.year)\n",
    "print(now.month)\n",
    "print(now.hour, now.minute, now. second)\n",
    "print(now)\n",
    "s=datetime.date.today()\n",
    "print(s)\n"
   ]
  },
  {
   "cell_type": "code",
   "execution_count": 70,
   "metadata": {},
   "outputs": [
    {
     "data": {
      "text/plain": [
       "2019"
      ]
     },
     "execution_count": 70,
     "metadata": {},
     "output_type": "execute_result"
    }
   ],
   "source": [
    "datetime.datetime.now().year"
   ]
  },
  {
   "cell_type": "code",
   "execution_count": 80,
   "metadata": {},
   "outputs": [],
   "source": [
    "#function to find difference between two given dates\n",
    "#yyyy:mm:dd\n",
    "import datetime\n",
    "def dateDifference(date1,date2):\n",
    "    year1=int(date1[:4])\n",
    "    month1=int(date1[5:7])\n",
    "    day1=int(date1[8:])\n",
    "    year2=int(date2[:4])\n",
    "    month2=int(date2[5:7])\n",
    "    day2=int(date2[8:])\n",
    "    d1=datetime.date(year1,month1,day1)\n",
    "    d2=datetime.date(year2,month2,day2)\n",
    "    return d2 - d1\n",
    "\n",
    "    \n",
    "\n",
    "\n"
   ]
  },
  {
   "cell_type": "code",
   "execution_count": 82,
   "metadata": {},
   "outputs": [
    {
     "name": "stdout",
     "output_type": "stream",
     "text": [
      "5 days, 0:00:00\n"
     ]
    }
   ],
   "source": [
    "print(dateDifference('2019:05:27','2019:06:01'))"
   ]
  },
  {
   "cell_type": "code",
   "execution_count": 86,
   "metadata": {},
   "outputs": [
    {
     "data": {
      "text/plain": [
       "False"
      ]
     },
     "execution_count": 86,
     "metadata": {},
     "output_type": "execute_result"
    }
   ],
   "source": [
    "import calendar\n",
    "calendar.isleap(2019)"
   ]
  },
  {
   "cell_type": "code",
   "execution_count": 87,
   "metadata": {},
   "outputs": [
    {
     "data": {
      "text/plain": [
       "True"
      ]
     },
     "execution_count": 87,
     "metadata": {},
     "output_type": "execute_result"
    }
   ],
   "source": [
    "def isLeap(year):\n",
    "    if(year%4==0 and year%100!=0)or year%400==0:\n",
    "        return True\n",
    "    return False\n",
    "isLeap(2020)     \n",
    "     "
   ]
  },
  {
   "cell_type": "markdown",
   "metadata": {},
   "source": [
    "### iterators and Generators\n",
    "#### find reference in    https://www.programiz.com/python-programming/generator"
   ]
  },
  {
   "cell_type": "markdown",
   "metadata": {},
   "source": [
    "### List Comperhension"
   ]
  },
  {
   "cell_type": "code",
   "execution_count": 2,
   "metadata": {},
   "outputs": [
    {
     "name": "stdout",
     "output_type": "stream",
     "text": [
      "21\n",
      "range(0, 123)\n"
     ]
    },
    {
     "data": {
      "text/plain": [
       "7503"
      ]
     },
     "execution_count": 2,
     "metadata": {},
     "output_type": "execute_result"
    }
   ],
   "source": [
    "li=[1,2,3,4,5,6]\n",
    "print(sum(li))\n",
    "n=123\n",
    "print(range(n))\n",
    "sum(range(123))"
   ]
  },
  {
   "cell_type": "code",
   "execution_count": 3,
   "metadata": {},
   "outputs": [
    {
     "data": {
      "text/plain": [
       "[0, 1, 2, 3, 4, 5, 6, 7, 8]"
      ]
     },
     "execution_count": 3,
     "metadata": {},
     "output_type": "execute_result"
    }
   ],
   "source": [
    "list(range(9))"
   ]
  },
  {
   "cell_type": "code",
   "execution_count": 4,
   "metadata": {},
   "outputs": [
    {
     "data": {
      "text/plain": [
       "45"
      ]
     },
     "execution_count": 4,
     "metadata": {},
     "output_type": "execute_result"
    }
   ],
   "source": [
    "sum(list(range((9+1))))#Sum of n natural numberes"
   ]
  },
  {
   "cell_type": "code",
   "execution_count": 6,
   "metadata": {},
   "outputs": [
    {
     "data": {
      "text/plain": [
       "[1.0,\n",
       " 1.4142135623730951,\n",
       " 1.7320508075688772,\n",
       " 2.0,\n",
       " 2.23606797749979,\n",
       " 2.449489742783178,\n",
       " 2.6457513110645907,\n",
       " 2.8284271247461903,\n",
       " 3.0,\n",
       " 3.1622776601683795]"
      ]
     },
     "execution_count": 6,
     "metadata": {},
     "output_type": "execute_result"
    }
   ],
   "source": [
    "#calculate of square root of n natural numbers\n",
    "from math import sqrt\n",
    "def sqrtNnaturalNum(n):\n",
    "    return[sqrt(i)for i in list(range(1,n+1))]\n",
    "sqrtNnaturalNum(10)\n",
    "           "
   ]
  },
  {
   "cell_type": "code",
   "execution_count": 7,
   "metadata": {},
   "outputs": [
    {
     "data": {
      "text/plain": [
       "22.4682781862041"
      ]
     },
     "execution_count": 7,
     "metadata": {},
     "output_type": "execute_result"
    }
   ],
   "source": [
    "#calculate sum of sqrt of n natural numbers\n",
    "from math import sqrt\n",
    "def sqrtNnaturalNum(n):\n",
    "    return sum([sqrt(i)for i in list(range(1,n+1))])\n",
    "sqrtNnaturalNum(10)"
   ]
  },
  {
   "cell_type": "code",
   "execution_count": 8,
   "metadata": {},
   "outputs": [
    {
     "data": {
      "text/plain": [
       "[1, 4, 9, 16, 25, 36]"
      ]
     },
     "execution_count": 8,
     "metadata": {},
     "output_type": "execute_result"
    }
   ],
   "source": [
    "# calculate square of each value in the list\n",
    "def squareListEle(li):\n",
    "    return[i**2 for i in li]\n",
    "squareListEle(li)"
   ]
  },
  {
   "cell_type": "code",
   "execution_count": 9,
   "metadata": {},
   "outputs": [
    {
     "data": {
      "text/plain": [
       "[9, 18, 27, 36, 45]"
      ]
     },
     "execution_count": 9,
     "metadata": {},
     "output_type": "execute_result"
    }
   ],
   "source": [
    "#design a function using list comperhension to identify all values divided by 9\n",
    "li=list(range(1,50))\n",
    "def divisible9(li):\n",
    "    return[i for i in li if i%9==0]\n",
    "divisible9(li)"
   ]
  },
  {
   "cell_type": "code",
   "execution_count": 12,
   "metadata": {},
   "outputs": [
    {
     "data": {
      "text/plain": [
       "[1980, 1984, 1988, 1992, 1996, 2000, 2004, 2008, 2012, 2016]"
      ]
     },
     "execution_count": 12,
     "metadata": {},
     "output_type": "execute_result"
    }
   ],
   "source": [
    "li=list(range(1979,2019))\n",
    "def leapinli(li):\n",
    "    return[i for i in li if(i%4==0and i%100!=0)or(i%400==0)]\n",
    "leapinli(li)"
   ]
  },
  {
   "cell_type": "markdown",
   "metadata": {},
   "source": [
    "### MAPS\n",
    "#### functions and  ierators are passsed as parameters"
   ]
  },
  {
   "cell_type": "code",
   "execution_count": 18,
   "metadata": {},
   "outputs": [
    {
     "name": "stdout",
     "output_type": "stream",
     "text": [
      "[1, 8, 27, 64, 125, 216]\n",
      "6\n",
      "441\n",
      "2584\n"
     ]
    }
   ],
   "source": [
    "# function to calculate cubes of all numbers in a list\n",
    "li=[1,2,3,4,5,6]\n",
    "def cube(n):\n",
    "    return n**3\n",
    "print(list(map(cube,li)))\n",
    "print(len(list(map(cube,li))))\n",
    "print(sum(list(map(cube,li))))\n",
    "li=[7,8,9,10]\n",
    "print(sum([cube(i)for i in li]))\n"
   ]
  },
  {
   "cell_type": "code",
   "execution_count": null,
   "metadata": {},
   "outputs": [],
   "source": [
    "# function to convert number into words"
   ]
  },
  {
   "cell_type": "code",
   "execution_count": null,
   "metadata": {},
   "outputs": [],
   "source": []
  },
  {
   "cell_type": "code",
   "execution_count": null,
   "metadata": {},
   "outputs": [],
   "source": []
  },
  {
   "cell_type": "code",
   "execution_count": null,
   "metadata": {},
   "outputs": [],
   "source": []
  }
 ],
 "metadata": {
  "kernelspec": {
   "display_name": "Python 3",
   "language": "python",
   "name": "python3"
  },
  "language_info": {
   "codemirror_mode": {
    "name": "ipython",
    "version": 3
   },
   "file_extension": ".py",
   "mimetype": "text/x-python",
   "name": "python",
   "nbconvert_exporter": "python",
   "pygments_lexer": "ipython3",
   "version": "3.7.3"
  }
 },
 "nbformat": 4,
 "nbformat_minor": 2
}
